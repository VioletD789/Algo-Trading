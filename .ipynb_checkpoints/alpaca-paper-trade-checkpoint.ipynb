{
 "cells": [
  {
   "cell_type": "code",
   "execution_count": 21,
   "metadata": {},
   "outputs": [],
   "source": [
    "#setting up to use the API\n",
    "import requests, json\n",
    "\n",
    "API_key = 'PKSJPQFC201EZD8U5H6P'\n",
    "secret_key = 'igpuAfXmb7eDY/JOc7K0kPk1kPL4rVadQu4iTlvv'\n",
    "endpoint = 'https://paper-api.alpaca.markets'\n"
   ]
  },
  {
   "cell_type": "code",
   "execution_count": 18,
   "metadata": {},
   "outputs": [],
   "source": [
    "account_url = '{}/v2/account'.format(endpoint)\n",
    "orders_url = '{}/v2/orders'.format(endpoint)\n",
    "\n",
    "HEADERS = {'APCA-API-KEY-ID':API_key, 'APCA-API-SECRET-KEY':secret_key}\n"
   ]
  },
  {
   "cell_type": "code",
   "execution_count": 17,
   "metadata": {},
   "outputs": [],
   "source": [
    "def get_account():\n",
    "    r = requests.get(account_url, headers = HEADERS)\n",
    "    return json.loads(r.content)\n"
   ]
  },
  {
   "cell_type": "code",
   "execution_count": 23,
   "metadata": {},
   "outputs": [],
   "source": [
    "#paper trading practice\n",
    "def create_order(symbol, qty, side, type, time_in_force):\n",
    "    data = {\n",
    "        'symbol' : symbol,\n",
    "        'qty' : qty,\n",
    "        'side' : side,\n",
    "        'type' : type,\n",
    "        'time_in_force' : time_in_force\n",
    "    }\n",
    "    r = requests.post(orders_url, json = data, headers = headers)\n",
    "    return json.loads(r.content)"
   ]
  },
  {
   "cell_type": "code",
   "execution_count": 24,
   "metadata": {},
   "outputs": [
    {
     "name": "stdout",
     "output_type": "stream",
     "text": [
      "{'id': '13b2b59e-f86d-4339-99c7-5c4c4264b902', 'client_order_id': '5b39a2c5-e907-4025-a832-0bddcb2abc71', 'created_at': '2020-07-28T14:59:27.511743Z', 'updated_at': '2020-07-28T14:59:27.511743Z', 'submitted_at': '2020-07-28T14:59:27.496307Z', 'filled_at': None, 'expired_at': None, 'canceled_at': None, 'failed_at': None, 'replaced_at': None, 'replaced_by': None, 'replaces': None, 'asset_id': 'b0b6dd9d-8b9b-48a9-ba46-b9d54906e415', 'symbol': 'AAPL', 'asset_class': 'us_equity', 'qty': '100', 'filled_qty': '0', 'filled_avg_price': None, 'order_class': '', 'order_type': 'market', 'type': 'market', 'side': 'buy', 'time_in_force': 'gtc', 'limit_price': None, 'stop_price': None, 'status': 'accepted', 'extended_hours': False, 'legs': None, 'trail_percent': None, 'trail_price': None, 'hwm': None}\n"
     ]
    }
   ],
   "source": [
    "re = create_order('AAPL', 100, 'buy', 'market', 'gtc')\n",
    "print(re)"
   ]
  },
  {
   "cell_type": "code",
   "execution_count": null,
   "metadata": {},
   "outputs": [],
   "source": []
  }
 ],
 "metadata": {
  "kernelspec": {
   "display_name": "Python 3",
   "language": "python",
   "name": "python3"
  },
  "language_info": {
   "codemirror_mode": {
    "name": "ipython",
    "version": 3
   },
   "file_extension": ".py",
   "mimetype": "text/x-python",
   "name": "python",
   "nbconvert_exporter": "python",
   "pygments_lexer": "ipython3",
   "version": "3.7.6"
  }
 },
 "nbformat": 4,
 "nbformat_minor": 4
}
