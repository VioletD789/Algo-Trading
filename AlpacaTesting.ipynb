{
 "cells": [
  {
   "cell_type": "code",
   "execution_count": 1,
   "metadata": {},
   "outputs": [
    {
     "name": "stdout",
     "output_type": "stream",
     "text": [
      "      open      high     low   close    volume\n",
      "0  374.840  379.6200  373.92  373.92  26920001\n",
      "1  377.470  378.1986  372.99  372.99  23023333\n",
      "2  375.000  380.9200  374.85  374.85  20387893\n",
      "3  376.750  385.1900  375.07  375.07  29577510\n",
      "4  411.535  425.6600  403.30  403.30  86940020\n"
     ]
    }
   ],
   "source": [
    "import alpaca_trade_api as tradeapi\n",
    "import requests  \n",
    "import json\n",
    "import pandas as pd\n",
    "\n",
    "api = tradeapi.REST(\n",
    "    key_id='PKFH5ZA4MRGSTSEFNQ3S',\n",
    "    secret_key='Yy5ygxRCE6bOwRRC03tQ9mYMudA6WQRKkRMbTnFY',\n",
    "    base_url='https://paper-api.alpaca.markets'\n",
    ")\n",
    "\n",
    "def getData(symbol, timeframe, limit):\n",
    "    barset = api.get_barset(symbol, timeframe, limit)\n",
    "    return barset\n",
    "\n",
    "\n",
    "DATA = getData(\"AAPL\", \"day\", 5)\n",
    "\n",
    "\n",
    "def changeFormat(data):\n",
    "\to = []\n",
    "\th = []\n",
    "\tl = []\n",
    "\tc = []\n",
    "\tv = []\n",
    "\tfor d in data:\n",
    "\t\tfor i in data[d]:\n",
    "\t\t\to.append(i.o)\n",
    "\t\t\th.append(i.h)\n",
    "\t\t\tl.append(i.l)\n",
    "\t\t\tc.append(i.c)\n",
    "\t\t\tv.append(i.v)\n",
    "\tdataDict = {\"open\":o, \"high\":h, \"low\":l, \"close\":l, \"volume\":v}\n",
    "\tdf = pd.DataFrame(dataDict)\n",
    "\treturn df\n",
    "\n",
    "\t\n",
    "print(changeFormat(DATA))"
   ]
  },
  {
   "cell_type": "code",
   "execution_count": null,
   "metadata": {},
   "outputs": [],
   "source": []
  }
 ],
 "metadata": {
  "kernelspec": {
   "display_name": "Python 3",
   "language": "python",
   "name": "python3"
  },
  "language_info": {
   "codemirror_mode": {
    "name": "ipython",
    "version": 3
   },
   "file_extension": ".py",
   "mimetype": "text/x-python",
   "name": "python",
   "nbconvert_exporter": "python",
   "pygments_lexer": "ipython3",
   "version": "3.7.6"
  }
 },
 "nbformat": 4,
 "nbformat_minor": 4
}
