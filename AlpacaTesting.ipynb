{
 "cells": [
  {
   "cell_type": "code",
   "execution_count": null,
   "metadata": {},
   "outputs": [],
   "source": [
    "import alpaca_trade_api as tradeapi\n",
    "import requests  \n",
    "import json\n",
    "\n",
    "api = tradeapi.REST(\n",
    "    key_id='PKFH5ZA4MRGSTSEFNQ3S',\n",
    "    secret_key='Yy5ygxRCE6bOwRRC03tQ9mYMudA6WQRKkRMbTnFY',\n",
    "    base_url='https://paper-api.alpaca.markets'\n",
    ")\n",
    "\n",
    "# Get daily price data for AAPL over the last 5 trading days.\n",
    "barset = api.get_barset('AAPL', 'day', limit=10)\n",
    "aapl_bars = barset['AAPL']\n",
    "\n",
    "# See how much AAPL moved in that timeframe.\n",
    "week_open = aapl_bars[0].o\n",
    "week_close = aapl_bars[-1].c\n",
    "percent_change = (week_close - week_open) / week_open\n",
    "print('AAPL moved {}% over the last 5 days'.format(percent_change))\n",
    "\n",
    "print(aapl_bars)"
   ]
  }
 ],
 "metadata": {
  "kernelspec": {
   "display_name": "Python 3",
   "language": "python",
   "name": "python3"
  },
  "language_info": {
   "codemirror_mode": {
    "name": "ipython",
    "version": 3
   },
   "file_extension": ".py",
   "mimetype": "text/x-python",
   "name": "python",
   "nbconvert_exporter": "python",
   "pygments_lexer": "ipython3",
   "version": "3.7.6"
  }
 },
 "nbformat": 4,
 "nbformat_minor": 4
}
