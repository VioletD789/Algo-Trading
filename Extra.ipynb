{
 "cells": [
  {
   "cell_type": "code",
   "execution_count": null,
   "metadata": {},
   "outputs": [],
   "source": [
    "#basic rolling average momentum strategy\n",
    "short_average = 40\n",
    "long_average = 100\n",
    "\n",
    "def rollingAverage(interval, data, column):\n",
    "    average = data[column].rolling(window=interval, min_periods=1, center=False).mean()\n",
    "    return average"
   ]
  },
  {
   "cell_type": "code",
   "execution_count": null,
   "metadata": {},
   "outputs": [],
   "source": [
    "shortAvgMS = rollingAverage(short_average, msDf, \"Open\")\n",
    "longAvgMS = rollingAverage(long_average, msDf, \"Open\")\n",
    "\n",
    "plt.plot(msDf.index, shortAvgMS,label=\"short average\")\n",
    "plt.plot(msDf.index, longAvgMS, label=\"long average\")\n",
    "#plt.plot(msDf.index, msDf[\"Open\"], label = \"stock price\")\n",
    "plt.legend()\n",
    "plt.show()"
   ]
  },
  {
   "cell_type": "code",
   "execution_count": null,
   "metadata": {},
   "outputs": [],
   "source": [
    "##for non-tf model -- pure python\n",
    "\n",
    "import math\n",
    "def init(inputNum, layerNum, outputNum):\n",
    "    result = []\n",
    "    for i in range(layerNum):\n",
    "        if i == 0:\n",
    "            print(\"0 to 1st\")\n",
    "            result.append(np.zeros((inputNum,inputNum)))\n",
    "        if i>0:\n",
    "            size = (math.ceil((inputNum-i+1)*inputNum/layerNum), math.ceil((inputNum-i)*inputNum/layerNum))\n",
    "            result.append(np.zeros(size))\n",
    "        if i == layerNum-1:\n",
    "            size = (math.ceil((inputNum-i)*inputNum/layerNum), outputNum)\n",
    "            result.append(np.zeros(size))\n",
    "    return result"
   ]
  },
  {
   "cell_type": "code",
   "execution_count": null,
   "metadata": {},
   "outputs": [],
   "source": [
    "#activation function\n",
    "def tanh(x):\n",
    "    return 2/(1+np.exp(-2*x))-1"
   ]
  },
  {
   "cell_type": "code",
   "execution_count": null,
   "metadata": {},
   "outputs": [],
   "source": [
    "def mean_sq_error(data1, data2):\n",
    "    sq_differences = []\n",
    "    for i in range(len(data1)):\n",
    "        actual = data1[i]\n",
    "        predicted = data2[i]\n",
    "        sq_difference = (actual - predicted)**2\n",
    "        sq_differences.append(sq_difference)\n",
    "    MSE = 1/(i+1)*sum(sq_differences)\n",
    "    return MSE"
   ]
  },
  {
   "cell_type": "code",
   "execution_count": null,
   "metadata": {},
   "outputs": [],
   "source": [
    "def mean_abs_percent_error(data1, data2):\n",
    "    abs_differences = []\n",
    "    for i in range(len(data1)):\n",
    "        actual = data1[i]\n",
    "        predicted = data2[i]\n",
    "        abs_difference = abs(actual - predicted)/abs(actual)\n",
    "        abs_differences.append(abs_difference)\n",
    "    MAPE = 100/(i+1)*sum(abs_differences)\n",
    "    return MAPE"
   ]
  },
  {
   "cell_type": "code",
   "execution_count": null,
   "metadata": {},
   "outputs": [],
   "source": [
    "def direction_acc(data1, data2):\n",
    "    products = []\n",
    "    for i in range(len(data1)):\n",
    "        actual = data1[i]\n",
    "        predicted = data2[i]\n",
    "        product = actual*predicted\n",
    "        products.append(product)\n",
    "    DA = 100/(i+1)*sum(products)\n",
    "    return DA"
   ]
  },
  {
   "cell_type": "code",
   "execution_count": null,
   "metadata": {},
   "outputs": [],
   "source": [
    "##from tutorial on LSTM\n",
    "\n",
    "#from tensorflow.keras.layers import LSTM, Dense, Dropout, Bidirectional,Flatten\n",
    "#from tensorflow.keras.callbacks import ModelCheckpoint, TensorBoard\n",
    "#from sklearn import preprocessing\n",
    "#from sklearn.model_selection import train_test_split\n",
    "#from sklearn.metrics import accuracy_score\n",
    "#from collections import deque\n",
    "\n",
    "#import time\n",
    "#import random"
   ]
  },
  {
   "cell_type": "code",
   "execution_count": null,
   "metadata": {},
   "outputs": [],
   "source": [
    "# #length is number of consecutive time steps ('sequence of features') -- using the dataset 'test', where we group by 5 days, this gives us 50 timesteps\n",
    "# #our goal is to output value of next time step -- so the next week's average\n",
    "\n",
    "# ##dropout seems to be something used with RNN and the rate can be adjusted\n",
    "# ##not entirely sure what our units would be; the article uses 256\n",
    "# #num_layers = 7 default b/c 1 in, 1 out, 5 hidden\n",
    "\n",
    "# def create_model(length = 50, units = 250, cell = LSTM, num_layers = 7, dropout = 0.3,\n",
    "#                 loss = 'mean_squared_error', optimizer = 'adam', \n",
    "#                  bidirectional = False):\n",
    "#     model = Sequential()\n",
    "#     for i in range(num_layers):\n",
    "#         #input layer\n",
    "#         if i == 0:    \n",
    "#             if bidirectional:\n",
    "#                 model.add(Bidirectional(cell(units, return_sequences=True), input_shape=(None, length)))\n",
    "#             else:\n",
    "#                 model.add(cell(units, return_sequences=True, input_shape=(1, 2)))\n",
    "#         #output layer\n",
    "#         elif i == num_layers-1:\n",
    "#             if bidirectional:\n",
    "#                 model.add(Bidirectional(cell(units, return_sequences=False)))\n",
    "#             else:\n",
    "#                 model.add(cell(units, return_sequences=False))\n",
    "#         #hidden layers\n",
    "#         else:\n",
    "#             if bidirectional:\n",
    "#                 model.add(Bidirectional(cell(units, return_sequences=True)))\n",
    "#             else:\n",
    "#                 model.add(cell(units, return_sequences=True))\n",
    "        \n",
    "#         model.add(Dropout(dropout))\n",
    "#     model.add(Flatten())    \n",
    "#     model.add(Dense(1,activation = 'linear'))\n",
    "#     model.compile(loss=loss, metrics = ['mean_squared_error'], optimizer=optimizer)\n",
    "#     return model\n",
    "\n",
    "# model = create_model()"
   ]
  }
 ],
 "metadata": {
  "kernelspec": {
   "display_name": "Python 3",
   "language": "python",
   "name": "python3"
  },
  "language_info": {
   "codemirror_mode": {
    "name": "ipython",
    "version": 3
   },
   "file_extension": ".py",
   "mimetype": "text/x-python",
   "name": "python",
   "nbconvert_exporter": "python",
   "pygments_lexer": "ipython3",
   "version": "3.7.6"
  }
 },
 "nbformat": 4,
 "nbformat_minor": 4
}
